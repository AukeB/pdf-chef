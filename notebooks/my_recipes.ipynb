{
 "cells": [
  {
   "cell_type": "code",
   "execution_count": 1,
   "id": "77645290",
   "metadata": {},
   "outputs": [],
   "source": [
    "import sys\n",
    "from pathlib import Path\n",
    "\n",
    "project_root = Path().resolve().parent\n",
    "sys.path.append(str(project_root))"
   ]
  },
  {
   "cell_type": "code",
   "execution_count": null,
   "id": "74eefd7f",
   "metadata": {},
   "outputs": [
    {
     "ename": "ModuleNotFoundError",
     "evalue": "No module named 'mobile_recipe_build'",
     "output_type": "error",
     "traceback": [
      "\u001b[31m---------------------------------------------------------------------------\u001b[39m",
      "\u001b[31mModuleNotFoundError\u001b[39m                       Traceback (most recent call last)",
      "\u001b[36mCell\u001b[39m\u001b[36m \u001b[39m\u001b[32mIn[2]\u001b[39m\u001b[32m, line 2\u001b[39m\n\u001b[32m      1\u001b[39m \u001b[38;5;28;01mfrom\u001b[39;00m\u001b[38;5;250m \u001b[39m\u001b[34;01msrc\u001b[39;00m\u001b[34;01m.\u001b[39;00m\u001b[34;01mconfig_manager\u001b[39;00m\u001b[38;5;250m \u001b[39m\u001b[38;5;28;01mimport\u001b[39;00m ConfigManager\n\u001b[32m----> \u001b[39m\u001b[32m2\u001b[39m \u001b[38;5;28;01mfrom\u001b[39;00m\u001b[38;5;250m \u001b[39m\u001b[34;01mmobile_recipe_build\u001b[39;00m\u001b[38;5;250m \u001b[39m\u001b[38;5;28;01mimport\u001b[39;00m RecipePDFBuilder\n",
      "\u001b[31mModuleNotFoundError\u001b[39m: No module named 'mobile_recipe_build'"
     ]
    }
   ],
   "source": [
    "from src.config_manager import ConfigManager\n",
    "from src.mobile_recipe_build import RecipePDFBuilder"
   ]
  },
  {
   "cell_type": "code",
   "execution_count": null,
   "id": "cc5025a6",
   "metadata": {},
   "outputs": [],
   "source": [
    "config_path_mobile_recipes = Path(\"../src/configs/config_mobile_recipes.yaml\")\n",
    "\n",
    "config_manager = ConfigManager()\n",
    "config_mobile_recipes = config_manager.load_config_file(path=config_path_mobile_recipes)"
   ]
  },
  {
   "cell_type": "code",
   "execution_count": null,
   "id": "5aed076b",
   "metadata": {},
   "outputs": [
    {
     "name": "stdout",
     "output_type": "stream",
     "text": [
      "('io', IO(output_file_name='../pdfs/recipes.pdf', input_recipe_file_path='../recipes/pompoen_risotto.json'))\n",
      "('document_margins', DocumentMargins(left=20, right=20))\n",
      "('section_margins', SectionMargins(top=10, bottom=10))\n",
      "('layout_cover', LayoutCover(image_height=150))\n",
      "('font', Font(font_name='Helvetica', font_size=16, font_shift_factor=1.8))\n",
      "('colors', Colors(color_mode='repeating', palette=[[0.87, 0.85, 0.55], [0.87, 0.72, 0.53]]))\n"
     ]
    }
   ],
   "source": [
    "for k in config_mobile_recipes:\n",
    "    print(k)"
   ]
  },
  {
   "cell_type": "code",
   "execution_count": null,
   "id": "d526f68e",
   "metadata": {},
   "outputs": [],
   "source": [
    "recipe_pdf_builder = RecipePDFBuilder(config=config_mobile_recipes)\n",
    "recipe_pdf_builder.build()"
   ]
  }
 ],
 "metadata": {
  "kernelspec": {
   "display_name": "pdf-chef (3.11.10)",
   "language": "python",
   "name": "python3"
  },
  "language_info": {
   "codemirror_mode": {
    "name": "ipython",
    "version": 3
   },
   "file_extension": ".py",
   "mimetype": "text/x-python",
   "name": "python",
   "nbconvert_exporter": "python",
   "pygments_lexer": "ipython3",
   "version": "3.11.10"
  }
 },
 "nbformat": 4,
 "nbformat_minor": 5
}
